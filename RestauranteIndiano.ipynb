{
  "nbformat": 4,
  "nbformat_minor": 0,
  "metadata": {
    "colab": {
      "provenance": [],
      "mount_file_id": "1arNPWhSnBP7sY87SYy9nWcmPZub04cS8",
      "authorship_tag": "ABX9TyO9wNA5hC70qr/eo29PWhwT",
      "include_colab_link": true
    },
    "kernelspec": {
      "name": "python3",
      "display_name": "Python 3"
    },
    "language_info": {
      "name": "python"
    }
  },
  "cells": [
    {
      "cell_type": "markdown",
      "metadata": {
        "id": "view-in-github",
        "colab_type": "text"
      },
      "source": [
        "<a href=\"https://colab.research.google.com/github/ThamiGG/restaindian/blob/main/RestauranteIndiano.ipynb\" target=\"_parent\"><img src=\"https://colab.research.google.com/assets/colab-badge.svg\" alt=\"Open In Colab\"/></a>"
      ]
    },
    {
      "cell_type": "markdown",
      "source": [
        "# **DESAFIO BI - ALURA**\n",
        "\n",
        "Origem dos dados disponibilizado pela Alura: Kaggle (Zomato)"
      ],
      "metadata": {
        "id": "qxGJoIz82bPm"
      }
    },
    {
      "cell_type": "markdown",
      "source": [
        "1. Instalação e importações"
      ],
      "metadata": {
        "id": "Law2hlEg2NTO"
      }
    },
    {
      "cell_type": "code",
      "source": [
        "!pip install requests\n",
        "\n",
        "import pandas as pd\n",
        "import numpy as np\n",
        "import json\n",
        "import requests\n",
        "\n",
        "from google.colab import drive"
      ],
      "metadata": {
        "id": "wHbIHpo93cUo",
        "colab": {
          "base_uri": "https://localhost:8080/"
        },
        "outputId": "ac2d1ad6-581d-43e7-e0d1-97f5c3c93bc5"
      },
      "execution_count": null,
      "outputs": [
        {
          "output_type": "stream",
          "name": "stdout",
          "text": [
            "Looking in indexes: https://pypi.org/simple, https://us-python.pkg.dev/colab-wheels/public/simple/\n",
            "Requirement already satisfied: requests in /usr/local/lib/python3.8/dist-packages (2.25.1)\n",
            "Requirement already satisfied: idna<3,>=2.5 in /usr/local/lib/python3.8/dist-packages (from requests) (2.10)\n",
            "Requirement already satisfied: chardet<5,>=3.0.2 in /usr/local/lib/python3.8/dist-packages (from requests) (4.0.0)\n",
            "Requirement already satisfied: urllib3<1.27,>=1.21.1 in /usr/local/lib/python3.8/dist-packages (from requests) (1.24.3)\n",
            "Requirement already satisfied: certifi>=2017.4.17 in /usr/local/lib/python3.8/dist-packages (from requests) (2022.12.7)\n"
          ]
        }
      ]
    },
    {
      "cell_type": "markdown",
      "source": [
        "2. Conectar ao drive"
      ],
      "metadata": {
        "id": "DXAowZil8H96"
      }
    },
    {
      "cell_type": "code",
      "source": [
        "drive.mount('/content/gdrive')\n",
        "# diretório dos arquivos\n",
        "root_dir = '/content/gdrive/MyDrive/CienciaDeDados/DesafioAlura/RestauranteIndiano'\n",
        "# ir ao diretório\n",
        "%cd $root_dir\n"
      ],
      "metadata": {
        "colab": {
          "base_uri": "https://localhost:8080/"
        },
        "id": "XhfDPI4I36OP",
        "outputId": "0ee7b4d9-3121-4fc4-92bf-4e3aa92ba197"
      },
      "execution_count": null,
      "outputs": [
        {
          "output_type": "stream",
          "name": "stdout",
          "text": [
            "Mounted at /content/gdrive\n",
            "/content/gdrive/MyDrive/CienciaDeDados/DesafioAlura/RestauranteIndiano\n"
          ]
        }
      ]
    },
    {
      "cell_type": "markdown",
      "source": [
        "3. Leitura e limpeza dos dados"
      ],
      "metadata": {
        "id": "Dohurua3EcJz"
      }
    },
    {
      "cell_type": "code",
      "source": [
        "json_file_path = \"/content/gdrive/MyDrive/CienciaDeDados/DesafioAlura/RestauranteIndiano/\"\n",
        "\n",
        "arq = 5 #quantidade de arquivos\n",
        "nome = 'file'\n",
        "\n",
        "for i in range(arq):\n",
        "  data = pd.read_json(json_file_path + nome + str(i+1) + '.json')\n",
        "  if i != 0:\n",
        "    rest0 = pd.DataFrame(data['restaurants'])\n",
        "    rest = pd.concat([rest, rest0])\n",
        "  else:\n",
        "    rest = pd.DataFrame(data['restaurants'])\n",
        "a = rest.explode(column='restaurants', ignore_index=True) #tirar os dicionarios das []\n",
        "b = pd.json_normalize(data=a['restaurants']) #distribuir os dados do dicionario em várias colunas\n",
        "c = b.drop_duplicates(subset='restaurant.id') #tira ids duplicados e mantem o primeiro\n",
        "d = c.drop(['restaurant.url','restaurant.photos_url','restaurant.apikey', #exclui colunas\n",
        "            'restaurant.zomato_events','restaurant.featured_image',\n",
        "            'restaurant.location.zipcode','restaurant.deeplink','restaurant.menu_url',\n",
        "            'restaurant.book_url','restaurant.switch_to_order_menu','restaurant.offers',\n",
        "            'restaurant.has_table_booking','restaurant.location.locality_verbose',\n",
        "            'restaurant.location.locality','restaurant.R.res_id',\n",
        "            'restaurant.thumb','restaurant.establishment_types','restaurant.events_url',\n",
        "            'restaurant.order_deeplink','restaurant.order_url'], axis=1) \n",
        "e = d.rename(columns={ #renomeia colunas\n",
        "    \"restaurant.has_online_delivery\":\"entrega online\",\n",
        "    \"restaurant.price_range\":\"faixa de preço da comida\",\n",
        "    \"restaurant.user_rating.rating_text\":\"classificação textual\",\n",
        "    \"restaurant.user_rating.rating_color\":\"classificação em cores\",\n",
        "    \"restaurant.user_rating.votes\":\"numero de votos\",\n",
        "    \"restaurant.user_rating.aggregate_rating\":\"classificação de 0 a 5\",\n",
        "    \"restaurant.id\":\"id\",\n",
        "    \"restaurant.name\":\"nome\",\n",
        "    \"restaurant.cuisines\":\"culinária\",\n",
        "    \"restaurant.is_delivering_now\":\"entrega\",\n",
        "    \"restaurant.average_cost_for_two\":\"custo medio para 2\",\n",
        "    \"restaurant.location.latitude\":\"latitude\",\n",
        "    \"restaurant.location.longitude\":\"longitude\",\n",
        "    \"restaurant.location.address\":\"endereço\",\n",
        "    \"restaurant.location.city\":\"cidade\",\n",
        "    \"restaurant.location.country_id\":\"id pais\",\n",
        "    \"restaurant.location.city_id\":\"id cidade\",\n",
        "    \"restaurant.currency\":\"moeda\"})\n",
        "df = e.set_index('id') #determina o indice\n"
      ],
      "metadata": {
        "id": "ye2uyOytEfZc"
      },
      "execution_count": null,
      "outputs": []
    },
    {
      "cell_type": "markdown",
      "source": [
        "Para analisar os tipos de culinária foi criado um arquivo a parte para não perder a chave primária, pois um id pode ter mais um tipo de culinária."
      ],
      "metadata": {
        "id": "SGsx7PStKaxU"
      }
    },
    {
      "cell_type": "code",
      "source": [
        "f1 = df['culinária'].copy() #copia determinada coluna\n",
        "f2 = df['classificação de 0 a 5'].copy()\n",
        "g1 = f1.str.split(',',expand=True) #separa os dados em novas colunas\n",
        "h1 = pd.melt(g1,value_vars=[0,1,2,3,4,5,6,7],value_name='culinaria',ignore_index=False) #as novas colunas se separam em linhas\n",
        "h = h1.join(f2) #a classficação dada ao restaurante é adicionada\n",
        "df2 = h.dropna() #remove linhas nulas\n",
        "df2.to_csv('/content/gdrive/MyDrive/CienciaDeDados/DesafioAlura/RestauranteIndiano/culinaria.csv') #salva o arquivo"
      ],
      "metadata": {
        "id": "dQI-PiNFKRWX"
      },
      "execution_count": null,
      "outputs": []
    },
    {
      "cell_type": "markdown",
      "source": [
        "Os dados de custo médio da refeição para duas pessoas vieram na moeda local, portanto cada valor foi convertido para reais."
      ],
      "metadata": {
        "id": "t9uKEq2G-r-T"
      }
    },
    {
      "cell_type": "code",
      "source": [
        "#a API com a conversão de moeda é requerida\n",
        "req = requests.get('http://economia.awesomeapi.com.br/json/last/USD-BRL,INR-BRL,AUD-BRL,CAD-BRL,BRL-IDR,NZD-BRL,BRL-PHP,BRL-QAR,SGD-BRL,ZAR-BRL,BRL-LKR,TRY-BRL,AED-BRL,GBP-BRL')\n",
        "req = req.json()\n",
        "\n",
        "#atribui o valor de conversão \n",
        "cot_india = float(req['INRBRL']['bid'])\n",
        "cot_austl = float(req['AUDBRL']['bid'])\n",
        "cot_canad = float(req['CADBRL']['bid'])\n",
        "cot_indon = float(req['BRLIDR']['bid'])\n",
        "cot_filip = float(req['BRLPHP']['bid'])\n",
        "cot_qatar = float(req['BRLQAR']['bid'])\n",
        "cot_singp = float(req['SGDBRL']['bid'])\n",
        "cot_afris = float(req['ZARBRL']['bid'])\n",
        "cot_srlak = float(req['BRLLKR']['bid'])\n",
        "cot_turqi = float(req['TRYBRL']['bid'])\n",
        "cot_arabe = float(req['AEDBRL']['bid'])\n",
        "cot_rundo = float(req['GBPBRL']['bid'])\n",
        "cot_eundo = float(req['USDBRL']['bid'])\n",
        "cot_zelan = float(req['NZDBRL']['bid'])\n",
        "\n",
        "#de acordo com o id do pais se faz a conversão \n",
        "for index,row in df.iterrows():\n",
        "  if row['id pais']==1.0:\n",
        "    df.loc[index,'custo medio para 2'] = row['custo medio para 2']*cot_india\n",
        "  elif row['id pais']==14.0:\n",
        "    df.loc[index,'custo medio para 2'] = row['custo medio para 2']*cot_austl\n",
        "  elif row['id pais']==37.0:\n",
        "    df.loc[index,'custo medio para 2'] = row['custo medio para 2']*cot_canad\n",
        "  elif row['id pais']==94.0:\n",
        "    df.loc[index,'custo medio para 2'] = row['custo medio para 2']/cot_indon\n",
        "  elif row['id pais']==148.0:\n",
        "    df.loc[index,'custo medio para 2'] = row['custo medio para 2']*cot_zelan\n",
        "  elif row['id pais']==162.0:\n",
        "    df.loc[index,'custo medio para 2'] = row['custo medio para 2']/cot_filip\n",
        "  elif row['id pais']==166.0:\n",
        "    df.loc[index,'custo medio para 2'] = row['custo medio para 2']/cot_qatar\n",
        "  elif row['id pais']==184.0:\n",
        "    df.loc[index,'custo medio para 2'] = row['custo medio para 2']*cot_singp\n",
        "  elif row['id pais']==189.0:\n",
        "    df.loc[index,'custo medio para 2'] = row['custo medio para 2']*cot_afris\n",
        "  elif row['id pais']==191.0:\n",
        "    df.loc[index,'custo medio para 2'] = row['custo medio para 2']/cot_srlak\n",
        "  elif row['id pais']==208.0:\n",
        "    df.loc[index,'custo medio para 2'] = row['custo medio para 2']*cot_turqi\n",
        "  elif row['id pais']==214.0:\n",
        "    df.loc[index,'custo medio para 2'] = row['custo medio para 2']*cot_arabe\n",
        "  elif row['id pais']==215.0:\n",
        "    df.loc[index,'custo medio para 2'] = row['custo medio para 2']*cot_rundo\n",
        "  elif row['id pais']==216.0:\n",
        "    df.loc[index,'custo medio para 2'] = row['custo medio para 2']*cot_eundo"
      ],
      "metadata": {
        "colab": {
          "base_uri": "https://localhost:8080/"
        },
        "id": "tkDK1XLrILXb",
        "outputId": "1cbd7e65-4221-47b1-eeba-2e5830947018"
      },
      "execution_count": null,
      "outputs": [
        {
          "output_type": "stream",
          "name": "stdout",
          "text": [
            "id\n",
            "308322        1.0\n",
            "18037817      1.0\n",
            "312345        1.0\n",
            "307490        1.0\n",
            "18241537      1.0\n",
            "            ...  \n",
            "17582627    216.0\n",
            "17582625    216.0\n",
            "17582668    216.0\n",
            "17582498    216.0\n",
            "17582499    216.0\n",
            "Name: id pais, Length: 9578, dtype: float64 id\n",
            "308322      1600.0\n",
            "18037817    1500.0\n",
            "312345       850.0\n",
            "307490      1850.0\n",
            "18241537    1600.0\n",
            "             ...  \n",
            "17582627       0.0\n",
            "17582625      40.0\n",
            "17582668      45.0\n",
            "17582498      10.0\n",
            "17582499       0.0\n",
            "Name: custo medio para 2, Length: 9578, dtype: float64\n",
            "DEPOIS\n",
            "id\n",
            "308322        1.0\n",
            "18037817      1.0\n",
            "312345        1.0\n",
            "307490        1.0\n",
            "18241537      1.0\n",
            "            ...  \n",
            "17582627    216.0\n",
            "17582625    216.0\n",
            "17582668    216.0\n",
            "17582498    216.0\n",
            "17582499    216.0\n",
            "Name: id pais, Length: 9578, dtype: float64 id\n",
            "308322      102.3680\n",
            "18037817     95.9700\n",
            "312345       54.3830\n",
            "307490      118.3630\n",
            "18241537    102.3680\n",
            "              ...   \n",
            "17582627      0.0000\n",
            "17582625    211.5960\n",
            "17582668    238.0455\n",
            "17582498     52.8990\n",
            "17582499      0.0000\n",
            "Name: custo medio para 2, Length: 9578, dtype: float64\n"
          ]
        }
      ]
    },
    {
      "cell_type": "code",
      "source": [
        "df.to_csv('/content/gdrive/MyDrive/CienciaDeDados/DesafioAlura/RestauranteIndiano/restaurantes.csv') "
      ],
      "metadata": {
        "id": "RioMpWXbirJq"
      },
      "execution_count": null,
      "outputs": []
    }
  ]
}